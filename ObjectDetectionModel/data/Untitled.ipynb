{
 "cells": [
  {
   "cell_type": "code",
   "execution_count": 5,
   "id": "cfba4505-b6fb-4784-978e-24797867c411",
   "metadata": {},
   "outputs": [],
   "source": [
    "import os\n",
    "import cv2\n",
    "import yaml\n",
    "import albumentations as A"
   ]
  },
  {
   "cell_type": "code",
   "execution_count": 36,
   "id": "916d9c67-0907-4575-a846-33960ffb33ad",
   "metadata": {},
   "outputs": [],
   "source": [
    "import matplotlib.pyplot as plt"
   ]
  },
  {
   "cell_type": "code",
   "execution_count": 2,
   "id": "15159a82-9a6d-4a0d-8314-f88735133e6a",
   "metadata": {},
   "outputs": [],
   "source": [
    "transform = A.Compose([\n",
    "        # A.RandomCrop(width=550, height=550),\n",
    "        # A.HorizontalFlip(p=0.3),\n",
    "        A.RandomBrightnessContrast(p=0.5),\n",
    "        A.RandomGamma(p=0.4),\n",
    "        # A.RGBShift(p=0.3),\n",
    "        # A.RandomCropFromBorders(p=0.3),\n",
    "        # A.Rotate(limit=20, p=0.2),\n",
    "        A.GaussianBlur(p=0.3)\n",
    "    ], bbox_params=A.BboxParams(format='yolo'))\n"
   ]
  },
  {
   "cell_type": "code",
   "execution_count": 7,
   "id": "6cbb4673-0d2e-4bae-853b-66f25ee58752",
   "metadata": {},
   "outputs": [],
   "source": [
    "with open('./contants.yaml', 'r') as stream:\n",
    "    CONSTANTS = yaml.safe_load(stream)"
   ]
  },
  {
   "cell_type": "code",
   "execution_count": 8,
   "id": "291608ed-5320-4f2b-800d-28e33c750515",
   "metadata": {},
   "outputs": [],
   "source": [
    "image = cv2.imread(os.path.join(CONSTANTS[\"inp_img_pth\"], '000000512793.jpg'))           \n",
    "lab_pth = os.path.join(CONSTANTS[\"inp_lab_pth\"], '00000051279' + '.txt')"
   ]
  },
  {
   "cell_type": "code",
   "execution_count": 54,
   "id": "7a0d9b4a-24a3-4316-912d-78a51cc99571",
   "metadata": {},
   "outputs": [],
   "source": [
    "bboxes = [[0.367672, 0.0859583, 0.310063, 0.171917, 'person'], [0.367672, 0.0859583, 0.310063, 0.171917, 'person']]"
   ]
  },
  {
   "cell_type": "code",
   "execution_count": 25,
   "id": "5dbc4d97-ca2c-4bb3-9c5c-3a8f7e21eb42",
   "metadata": {
    "tags": []
   },
   "outputs": [
    {
     "ename": "ValueError",
     "evalue": "Expected y_min for bbox (0.2126405, -1.9999999999187335e-07, 0.5227035, 0.17191679999999998, 'person') to be in the range [0.0, 1.0], got -1.9999999999187335e-07.",
     "output_type": "error",
     "traceback": [
      "\u001b[0;31m---------------------------------------------------------------------------\u001b[0m",
      "\u001b[0;31mValueError\u001b[0m                                Traceback (most recent call last)",
      "Cell \u001b[0;32mIn[25], line 1\u001b[0m\n\u001b[0;32m----> 1\u001b[0m transformed \u001b[38;5;241m=\u001b[39m \u001b[43mtransform\u001b[49m\u001b[43m(\u001b[49m\u001b[43mimage\u001b[49m\u001b[38;5;241;43m=\u001b[39;49m\u001b[43mimage\u001b[49m\u001b[43m,\u001b[49m\u001b[43m \u001b[49m\u001b[43mbboxes\u001b[49m\u001b[38;5;241;43m=\u001b[39;49m\u001b[43mbboxes\u001b[49m\u001b[43m)\u001b[49m\n",
      "File \u001b[0;32m~/miniforge3/lib/python3.10/site-packages/albumentations/core/composition.py:202\u001b[0m, in \u001b[0;36mCompose.__call__\u001b[0;34m(self, force_apply, *args, **data)\u001b[0m\n\u001b[1;32m    197\u001b[0m check_each_transform \u001b[38;5;241m=\u001b[39m \u001b[38;5;28many\u001b[39m(\n\u001b[1;32m    198\u001b[0m     \u001b[38;5;28mgetattr\u001b[39m(item\u001b[38;5;241m.\u001b[39mparams, \u001b[38;5;124m\"\u001b[39m\u001b[38;5;124mcheck_each_transform\u001b[39m\u001b[38;5;124m\"\u001b[39m, \u001b[38;5;28;01mFalse\u001b[39;00m) \u001b[38;5;28;01mfor\u001b[39;00m item \u001b[38;5;129;01min\u001b[39;00m \u001b[38;5;28mself\u001b[39m\u001b[38;5;241m.\u001b[39mprocessors\u001b[38;5;241m.\u001b[39mvalues()\n\u001b[1;32m    199\u001b[0m )\n\u001b[1;32m    201\u001b[0m \u001b[38;5;28;01mfor\u001b[39;00m p \u001b[38;5;129;01min\u001b[39;00m \u001b[38;5;28mself\u001b[39m\u001b[38;5;241m.\u001b[39mprocessors\u001b[38;5;241m.\u001b[39mvalues():\n\u001b[0;32m--> 202\u001b[0m     \u001b[43mp\u001b[49m\u001b[38;5;241;43m.\u001b[39;49m\u001b[43mpreprocess\u001b[49m\u001b[43m(\u001b[49m\u001b[43mdata\u001b[49m\u001b[43m)\u001b[49m\n\u001b[1;32m    204\u001b[0m \u001b[38;5;28;01mfor\u001b[39;00m idx, t \u001b[38;5;129;01min\u001b[39;00m \u001b[38;5;28menumerate\u001b[39m(transforms):\n\u001b[1;32m    205\u001b[0m     data \u001b[38;5;241m=\u001b[39m t(\u001b[38;5;241m*\u001b[39m\u001b[38;5;241m*\u001b[39mdata)\n",
      "File \u001b[0;32m~/miniforge3/lib/python3.10/site-packages/albumentations/core/utils.py:83\u001b[0m, in \u001b[0;36mDataProcessor.preprocess\u001b[0;34m(self, data)\u001b[0m\n\u001b[1;32m     81\u001b[0m rows, cols \u001b[38;5;241m=\u001b[39m data[\u001b[38;5;124m\"\u001b[39m\u001b[38;5;124mimage\u001b[39m\u001b[38;5;124m\"\u001b[39m]\u001b[38;5;241m.\u001b[39mshape[:\u001b[38;5;241m2\u001b[39m]\n\u001b[1;32m     82\u001b[0m \u001b[38;5;28;01mfor\u001b[39;00m data_name \u001b[38;5;129;01min\u001b[39;00m \u001b[38;5;28mself\u001b[39m\u001b[38;5;241m.\u001b[39mdata_fields:\n\u001b[0;32m---> 83\u001b[0m     data[data_name] \u001b[38;5;241m=\u001b[39m \u001b[38;5;28;43mself\u001b[39;49m\u001b[38;5;241;43m.\u001b[39;49m\u001b[43mcheck_and_convert\u001b[49m\u001b[43m(\u001b[49m\u001b[43mdata\u001b[49m\u001b[43m[\u001b[49m\u001b[43mdata_name\u001b[49m\u001b[43m]\u001b[49m\u001b[43m,\u001b[49m\u001b[43m \u001b[49m\u001b[43mrows\u001b[49m\u001b[43m,\u001b[49m\u001b[43m \u001b[49m\u001b[43mcols\u001b[49m\u001b[43m,\u001b[49m\u001b[43m \u001b[49m\u001b[43mdirection\u001b[49m\u001b[38;5;241;43m=\u001b[39;49m\u001b[38;5;124;43m\"\u001b[39;49m\u001b[38;5;124;43mto\u001b[39;49m\u001b[38;5;124;43m\"\u001b[39;49m\u001b[43m)\u001b[49m\n",
      "File \u001b[0;32m~/miniforge3/lib/python3.10/site-packages/albumentations/core/utils.py:91\u001b[0m, in \u001b[0;36mDataProcessor.check_and_convert\u001b[0;34m(self, data, rows, cols, direction)\u001b[0m\n\u001b[1;32m     88\u001b[0m     \u001b[38;5;28;01mreturn\u001b[39;00m data\n\u001b[1;32m     90\u001b[0m \u001b[38;5;28;01mif\u001b[39;00m direction \u001b[38;5;241m==\u001b[39m \u001b[38;5;124m\"\u001b[39m\u001b[38;5;124mto\u001b[39m\u001b[38;5;124m\"\u001b[39m:\n\u001b[0;32m---> 91\u001b[0m     \u001b[38;5;28;01mreturn\u001b[39;00m \u001b[38;5;28;43mself\u001b[39;49m\u001b[38;5;241;43m.\u001b[39;49m\u001b[43mconvert_to_albumentations\u001b[49m\u001b[43m(\u001b[49m\u001b[43mdata\u001b[49m\u001b[43m,\u001b[49m\u001b[43m \u001b[49m\u001b[43mrows\u001b[49m\u001b[43m,\u001b[49m\u001b[43m \u001b[49m\u001b[43mcols\u001b[49m\u001b[43m)\u001b[49m\n\u001b[1;32m     92\u001b[0m \u001b[38;5;28;01melif\u001b[39;00m direction \u001b[38;5;241m==\u001b[39m \u001b[38;5;124m\"\u001b[39m\u001b[38;5;124mfrom\u001b[39m\u001b[38;5;124m\"\u001b[39m:\n\u001b[1;32m     93\u001b[0m     \u001b[38;5;28;01mreturn\u001b[39;00m \u001b[38;5;28mself\u001b[39m\u001b[38;5;241m.\u001b[39mconvert_from_albumentations(data, rows, cols)\n",
      "File \u001b[0;32m~/miniforge3/lib/python3.10/site-packages/albumentations/core/bbox_utils.py:124\u001b[0m, in \u001b[0;36mBboxProcessor.convert_to_albumentations\u001b[0;34m(self, data, rows, cols)\u001b[0m\n\u001b[1;32m    123\u001b[0m \u001b[38;5;28;01mdef\u001b[39;00m \u001b[38;5;21mconvert_to_albumentations\u001b[39m(\u001b[38;5;28mself\u001b[39m, data: Sequence[BoxType], rows: \u001b[38;5;28mint\u001b[39m, cols: \u001b[38;5;28mint\u001b[39m) \u001b[38;5;241m-\u001b[39m\u001b[38;5;241m>\u001b[39m List[BoxType]:\n\u001b[0;32m--> 124\u001b[0m     \u001b[38;5;28;01mreturn\u001b[39;00m \u001b[43mconvert_bboxes_to_albumentations\u001b[49m\u001b[43m(\u001b[49m\u001b[43mdata\u001b[49m\u001b[43m,\u001b[49m\u001b[43m \u001b[49m\u001b[38;5;28;43mself\u001b[39;49m\u001b[38;5;241;43m.\u001b[39;49m\u001b[43mparams\u001b[49m\u001b[38;5;241;43m.\u001b[39;49m\u001b[43mformat\u001b[49m\u001b[43m,\u001b[49m\u001b[43m \u001b[49m\u001b[43mrows\u001b[49m\u001b[43m,\u001b[49m\u001b[43m \u001b[49m\u001b[43mcols\u001b[49m\u001b[43m,\u001b[49m\u001b[43m \u001b[49m\u001b[43mcheck_validity\u001b[49m\u001b[38;5;241;43m=\u001b[39;49m\u001b[38;5;28;43;01mTrue\u001b[39;49;00m\u001b[43m)\u001b[49m\n",
      "File \u001b[0;32m~/miniforge3/lib/python3.10/site-packages/albumentations/core/bbox_utils.py:390\u001b[0m, in \u001b[0;36mconvert_bboxes_to_albumentations\u001b[0;34m(bboxes, source_format, rows, cols, check_validity)\u001b[0m\n\u001b[1;32m    386\u001b[0m \u001b[38;5;28;01mdef\u001b[39;00m \u001b[38;5;21mconvert_bboxes_to_albumentations\u001b[39m(\n\u001b[1;32m    387\u001b[0m     bboxes: Sequence[BoxType], source_format, rows, cols, check_validity\u001b[38;5;241m=\u001b[39m\u001b[38;5;28;01mFalse\u001b[39;00m\n\u001b[1;32m    388\u001b[0m ) \u001b[38;5;241m-\u001b[39m\u001b[38;5;241m>\u001b[39m List[BoxType]:\n\u001b[1;32m    389\u001b[0m \u001b[38;5;250m    \u001b[39m\u001b[38;5;124;03m\"\"\"Convert a list bounding boxes from a format specified in `source_format` to the format used by albumentations\"\"\"\u001b[39;00m\n\u001b[0;32m--> 390\u001b[0m     \u001b[38;5;28;01mreturn\u001b[39;00m [convert_bbox_to_albumentations(bbox, source_format, rows, cols, check_validity) \u001b[38;5;28;01mfor\u001b[39;00m bbox \u001b[38;5;129;01min\u001b[39;00m bboxes]\n",
      "File \u001b[0;32m~/miniforge3/lib/python3.10/site-packages/albumentations/core/bbox_utils.py:390\u001b[0m, in \u001b[0;36m<listcomp>\u001b[0;34m(.0)\u001b[0m\n\u001b[1;32m    386\u001b[0m \u001b[38;5;28;01mdef\u001b[39;00m \u001b[38;5;21mconvert_bboxes_to_albumentations\u001b[39m(\n\u001b[1;32m    387\u001b[0m     bboxes: Sequence[BoxType], source_format, rows, cols, check_validity\u001b[38;5;241m=\u001b[39m\u001b[38;5;28;01mFalse\u001b[39;00m\n\u001b[1;32m    388\u001b[0m ) \u001b[38;5;241m-\u001b[39m\u001b[38;5;241m>\u001b[39m List[BoxType]:\n\u001b[1;32m    389\u001b[0m \u001b[38;5;250m    \u001b[39m\u001b[38;5;124;03m\"\"\"Convert a list bounding boxes from a format specified in `source_format` to the format used by albumentations\"\"\"\u001b[39;00m\n\u001b[0;32m--> 390\u001b[0m     \u001b[38;5;28;01mreturn\u001b[39;00m [\u001b[43mconvert_bbox_to_albumentations\u001b[49m\u001b[43m(\u001b[49m\u001b[43mbbox\u001b[49m\u001b[43m,\u001b[49m\u001b[43m \u001b[49m\u001b[43msource_format\u001b[49m\u001b[43m,\u001b[49m\u001b[43m \u001b[49m\u001b[43mrows\u001b[49m\u001b[43m,\u001b[49m\u001b[43m \u001b[49m\u001b[43mcols\u001b[49m\u001b[43m,\u001b[49m\u001b[43m \u001b[49m\u001b[43mcheck_validity\u001b[49m\u001b[43m)\u001b[49m \u001b[38;5;28;01mfor\u001b[39;00m bbox \u001b[38;5;129;01min\u001b[39;00m bboxes]\n",
      "File \u001b[0;32m~/miniforge3/lib/python3.10/site-packages/albumentations/core/bbox_utils.py:334\u001b[0m, in \u001b[0;36mconvert_bbox_to_albumentations\u001b[0;34m(bbox, source_format, rows, cols, check_validity)\u001b[0m\n\u001b[1;32m    332\u001b[0m     bbox \u001b[38;5;241m=\u001b[39m normalize_bbox(bbox, rows, cols)\n\u001b[1;32m    333\u001b[0m \u001b[38;5;28;01mif\u001b[39;00m check_validity:\n\u001b[0;32m--> 334\u001b[0m     \u001b[43mcheck_bbox\u001b[49m\u001b[43m(\u001b[49m\u001b[43mbbox\u001b[49m\u001b[43m)\u001b[49m\n\u001b[1;32m    335\u001b[0m \u001b[38;5;28;01mreturn\u001b[39;00m bbox\n",
      "File \u001b[0;32m~/miniforge3/lib/python3.10/site-packages/albumentations/core/bbox_utils.py:417\u001b[0m, in \u001b[0;36mcheck_bbox\u001b[0;34m(bbox)\u001b[0m\n\u001b[1;32m    415\u001b[0m \u001b[38;5;28;01mfor\u001b[39;00m name, value \u001b[38;5;129;01min\u001b[39;00m \u001b[38;5;28mzip\u001b[39m([\u001b[38;5;124m\"\u001b[39m\u001b[38;5;124mx_min\u001b[39m\u001b[38;5;124m\"\u001b[39m, \u001b[38;5;124m\"\u001b[39m\u001b[38;5;124my_min\u001b[39m\u001b[38;5;124m\"\u001b[39m, \u001b[38;5;124m\"\u001b[39m\u001b[38;5;124mx_max\u001b[39m\u001b[38;5;124m\"\u001b[39m, \u001b[38;5;124m\"\u001b[39m\u001b[38;5;124my_max\u001b[39m\u001b[38;5;124m\"\u001b[39m], bbox[:\u001b[38;5;241m4\u001b[39m]):\n\u001b[1;32m    416\u001b[0m     \u001b[38;5;28;01mif\u001b[39;00m \u001b[38;5;129;01mnot\u001b[39;00m \u001b[38;5;241m0\u001b[39m \u001b[38;5;241m<\u001b[39m\u001b[38;5;241m=\u001b[39m value \u001b[38;5;241m<\u001b[39m\u001b[38;5;241m=\u001b[39m \u001b[38;5;241m1\u001b[39m \u001b[38;5;129;01mand\u001b[39;00m \u001b[38;5;129;01mnot\u001b[39;00m np\u001b[38;5;241m.\u001b[39misclose(value, \u001b[38;5;241m0\u001b[39m) \u001b[38;5;129;01mand\u001b[39;00m \u001b[38;5;129;01mnot\u001b[39;00m np\u001b[38;5;241m.\u001b[39misclose(value, \u001b[38;5;241m1\u001b[39m):\n\u001b[0;32m--> 417\u001b[0m         \u001b[38;5;28;01mraise\u001b[39;00m \u001b[38;5;167;01mValueError\u001b[39;00m(\u001b[38;5;124mf\u001b[39m\u001b[38;5;124m\"\u001b[39m\u001b[38;5;124mExpected \u001b[39m\u001b[38;5;132;01m{\u001b[39;00mname\u001b[38;5;132;01m}\u001b[39;00m\u001b[38;5;124m for bbox \u001b[39m\u001b[38;5;132;01m{\u001b[39;00mbbox\u001b[38;5;132;01m}\u001b[39;00m\u001b[38;5;124m to be in the range [0.0, 1.0], got \u001b[39m\u001b[38;5;132;01m{\u001b[39;00mvalue\u001b[38;5;132;01m}\u001b[39;00m\u001b[38;5;124m.\u001b[39m\u001b[38;5;124m\"\u001b[39m)\n\u001b[1;32m    418\u001b[0m x_min, y_min, x_max, y_max \u001b[38;5;241m=\u001b[39m bbox[:\u001b[38;5;241m4\u001b[39m]\n\u001b[1;32m    419\u001b[0m \u001b[38;5;28;01mif\u001b[39;00m x_max \u001b[38;5;241m<\u001b[39m\u001b[38;5;241m=\u001b[39m x_min:\n",
      "\u001b[0;31mValueError\u001b[0m: Expected y_min for bbox (0.2126405, -1.9999999999187335e-07, 0.5227035, 0.17191679999999998, 'person') to be in the range [0.0, 1.0], got -1.9999999999187335e-07."
     ]
    }
   ],
   "source": [
    "transformed = transform(image=image, bboxes=bboxes)"
   ]
  },
  {
   "cell_type": "code",
   "execution_count": 27,
   "id": "d59cca2e-571d-41ba-95ac-4e5583e5ecbe",
   "metadata": {},
   "outputs": [],
   "source": [
    "h,w,_ = image.shape"
   ]
  },
  {
   "cell_type": "code",
   "execution_count": 28,
   "id": "95d39dd5-194b-4092-9773-248dd7d7734e",
   "metadata": {},
   "outputs": [],
   "source": [
    "x_center, y_center, width, height, _ = [0.367672, 0.0859583, 0.310063, 0.171917, 'person']"
   ]
  },
  {
   "cell_type": "code",
   "execution_count": 51,
   "id": "67144683-c7fc-4aa2-a12c-09c07f9eaef2",
   "metadata": {},
   "outputs": [],
   "source": [
    "x1 = (x_center - width / 2)\n",
    "y1 = (y_center - height / 2)\n",
    "x2 = x1 + width * width\n",
    "y2 = y1 + height * height"
   ]
  },
  {
   "cell_type": "code",
   "execution_count": 57,
   "id": "8297fdde-31eb-4c82-b5c5-1b73cee76dee",
   "metadata": {},
   "outputs": [
    {
     "name": "stdout",
     "output_type": "stream",
     "text": [
      "F\n",
      "F\n"
     ]
    }
   ],
   "source": [
    "for x, y, w, h, _ in bboxes:\n",
    "    x1 = x - w / 2\n",
    "    y1 = y - h / 2\n",
    "    x2 = x + w / 2\n",
    "    y2 = y + h / 2\n",
    "    if x1 > 1 or x1 < 0 or x2 > 1 or x2 < 0 or y1 > 1 or y1 < 0 or y2 > 1 or y2 < 0:\n",
    "    \n"
   ]
  },
  {
   "cell_type": "code",
   "execution_count": 50,
   "id": "af72da7c-4d2c-4a5a-a9e0-caa3da83dfa3",
   "metadata": {},
   "outputs": [
    {
     "ename": "TypeError",
     "evalue": "'module' object is not callable",
     "output_type": "error",
     "traceback": [
      "\u001b[0;31m---------------------------------------------------------------------------\u001b[0m",
      "\u001b[0;31mTypeError\u001b[0m                                 Traceback (most recent call last)",
      "Cell \u001b[0;32mIn[50], line 4\u001b[0m\n\u001b[1;32m      2\u001b[0m thickness \u001b[38;5;241m=\u001b[39m \u001b[38;5;241m2\u001b[39m\n\u001b[1;32m      3\u001b[0m cv2\u001b[38;5;241m.\u001b[39mrectangle(image, (\u001b[38;5;241m100\u001b[39m, \u001b[38;5;241m100\u001b[39m), (\u001b[38;5;241m200\u001b[39m, \u001b[38;5;241m250\u001b[39m), color, thickness)\n\u001b[0;32m----> 4\u001b[0m \u001b[43mplt\u001b[49m\u001b[43m(\u001b[49m\u001b[43mimage\u001b[49m\u001b[43m)\u001b[49m\n",
      "\u001b[0;31mTypeError\u001b[0m: 'module' object is not callable"
     ]
    }
   ],
   "source": [
    "color = (0, 255, 0)  # Green color\n",
    "thickness = 2\n",
    "cv2.rectangle(image, (100, 100), (200, 250), color, thickness)\n"
   ]
  },
  {
   "cell_type": "code",
   "execution_count": null,
   "id": "45bdc536-3a37-4037-aa54-37d10f300965",
   "metadata": {},
   "outputs": [],
   "source": []
  }
 ],
 "metadata": {
  "kernelspec": {
   "display_name": "Python 3 (ipykernel)",
   "language": "python",
   "name": "python3"
  },
  "language_info": {
   "codemirror_mode": {
    "name": "ipython",
    "version": 3
   },
   "file_extension": ".py",
   "mimetype": "text/x-python",
   "name": "python",
   "nbconvert_exporter": "python",
   "pygments_lexer": "ipython3",
   "version": "3.10.8"
  }
 },
 "nbformat": 4,
 "nbformat_minor": 5
}
